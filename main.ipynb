{
 "cells": [
  {
   "cell_type": "code",
   "execution_count": 15,
   "metadata": {},
   "outputs": [],
   "source": [
    "import geojson\n",
    "import folium\n",
    "import pandas as pd\n",
    "import geopandas as gpd\n",
    "import json"
   ]
  },
  {
   "cell_type": "code",
   "execution_count": 16,
   "metadata": {},
   "outputs": [],
   "source": [
    "df = pd.read_excel('data.xlsx')"
   ]
  },
  {
   "cell_type": "code",
   "execution_count": 17,
   "metadata": {},
   "outputs": [],
   "source": [
    "gdf = gpd.GeoDataFrame(df, geometry=gpd.points_from_xy(df.LON, df.LAT), crs=\"EPSG:4326\")"
   ]
  },
  {
   "cell_type": "code",
   "execution_count": 18,
   "metadata": {},
   "outputs": [
    {
     "name": "stderr",
     "output_type": "stream",
     "text": [
      "c:\\Users\\andre\\AppData\\Local\\Programs\\Python\\Python312\\Lib\\site-packages\\pyproj\\crs\\crs.py:141: FutureWarning: '+init=<authority>:<code>' syntax is deprecated. '<authority>:<code>' is the preferred initialization method. When making the change, be mindful of axis order changes: https://pyproj4.github.io/pyproj/stable/gotchas.html#axis-order-changes-in-proj-6\n",
      "  in_crs_string = _prepare_from_proj_string(in_crs_string)\n"
     ]
    }
   ],
   "source": [
    "estimate_crs = gdf.estimate_utm_crs()\n",
    "gdf = gdf.to_crs(estimate_crs)\n",
    "gdf['geometry'] = gdf['geometry'].buffer(2000, 16)\n",
    "gdf = gdf.to_crs({'init': 'epsg:4326'})"
   ]
  },
  {
   "cell_type": "code",
   "execution_count": 19,
   "metadata": {},
   "outputs": [],
   "source": [
    "gdf['fill'] = '#ff0000'  # Прозрачная красная заливка\n",
    "gdf['fill-opacity'] = 0.3  # 50% прозрачность\n",
    "gdf['outline-style'] = \"none\"  # Нет обводки\n",
    "gdf.to_file(\"output.geojson\", driver=\"GeoJSON\")"
   ]
  },
  {
   "cell_type": "code",
   "execution_count": 20,
   "metadata": {},
   "outputs": [],
   "source": [
    "m = folium.Map(location = [55.750066, 37.614356], zoom_start=10)\n",
    "\n",
    "folium.GeoJson(\n",
    "    gdf,\n",
    "    style_function=lambda feature: {\n",
    "        \"fillColor\": \"#ff0000\",\n",
    "        \"fill-opacity\": 0.3,\n",
    "        \"stroke\": False\n",
    "}\n",
    "    ).add_to(m)\n",
    "m.save('geo.html')"
   ]
  },
  {
   "cell_type": "code",
   "execution_count": 21,
   "metadata": {},
   "outputs": [],
   "source": [
    "m = folium.Map(location = [55.750066, 37.614356], zoom_start=10)\n",
    "\n",
    "for _, r in gdf.iterrows():\n",
    "    sim_geo = gpd.GeoSeries(gdf['geometry'])\n",
    "    geo_j = sim_geo.to_json()\n",
    "    geo_j = folium.GeoJson(data = geo_j, style_function=lambda x: {'fillColor': 'orange'})\n",
    "\n",
    "    geo_j.add_to(m)\n",
    "\n",
    "    m.save('geo.html')"
   ]
  }
 ],
 "metadata": {
  "kernelspec": {
   "display_name": "Python 3",
   "language": "python",
   "name": "python3"
  },
  "language_info": {
   "codemirror_mode": {
    "name": "ipython",
    "version": 3
   },
   "file_extension": ".py",
   "mimetype": "text/x-python",
   "name": "python",
   "nbconvert_exporter": "python",
   "pygments_lexer": "ipython3",
   "version": "3.12.5"
  }
 },
 "nbformat": 4,
 "nbformat_minor": 2
}
