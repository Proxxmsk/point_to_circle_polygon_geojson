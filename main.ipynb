{
 "cells": [
  {
   "cell_type": "code",
   "execution_count": 137,
   "metadata": {},
   "outputs": [],
   "source": [
    "import geojson\n",
    "import folium\n",
    "import pandas as pd\n",
    "import geopandas as gpd\n",
    "import json"
   ]
  },
  {
   "cell_type": "code",
   "execution_count": 143,
   "metadata": {},
   "outputs": [],
   "source": [
    "df = pd.read_excel('data.xlsx')"
   ]
  },
  {
   "cell_type": "code",
   "execution_count": 144,
   "metadata": {},
   "outputs": [],
   "source": [
    "gdf = gpd.GeoDataFrame(df, geometry=gpd.points_from_xy(df.LON, df.LAT), crs=\"EPSG:4326\")"
   ]
  },
  {
   "cell_type": "code",
   "execution_count": 145,
   "metadata": {},
   "outputs": [
    {
     "name": "stderr",
     "output_type": "stream",
     "text": [
      "c:\\Users\\andre\\AppData\\Local\\Programs\\Python\\Python312\\Lib\\site-packages\\pyproj\\crs\\crs.py:141: FutureWarning: '+init=<authority>:<code>' syntax is deprecated. '<authority>:<code>' is the preferred initialization method. When making the change, be mindful of axis order changes: https://pyproj4.github.io/pyproj/stable/gotchas.html#axis-order-changes-in-proj-6\n",
      "  in_crs_string = _prepare_from_proj_string(in_crs_string)\n"
     ]
    }
   ],
   "source": [
    "gdf = gdf.to_crs({'init': 'epsg:3857'})\n",
    "gdf['geometry'] = gdf['geometry'].buffer(2000, 32)\n",
    "gdf = gdf.to_crs({'init': 'epsg:4326'})"
   ]
  },
  {
   "cell_type": "code",
   "execution_count": 146,
   "metadata": {},
   "outputs": [],
   "source": [
    "gdf['fill'] = '#ff0000'  # Прозрачная красная заливка\n",
    "gdf['fill-opacity'] = 0.5  # 50% прозрачность\n",
    "gdf['stroke'] = 'none'  # Нет обводки\n",
    "gdf.to_file(\"output.geojson\", driver=\"GeoJSON\")"
   ]
  },
  {
   "cell_type": "code",
   "execution_count": 138,
   "metadata": {},
   "outputs": [
    {
     "ename": "AttributeError",
     "evalue": "'Polygon' object has no attribute 'to_json'",
     "output_type": "error",
     "traceback": [
      "\u001b[1;31m---------------------------------------------------------------------------\u001b[0m",
      "\u001b[1;31mAttributeError\u001b[0m                            Traceback (most recent call last)",
      "Cell \u001b[1;32mIn[138], line 5\u001b[0m\n\u001b[0;32m      1\u001b[0m features \u001b[38;5;241m=\u001b[39m []\n\u001b[0;32m      2\u001b[0m \u001b[38;5;28;01mfor\u001b[39;00m _, row \u001b[38;5;129;01min\u001b[39;00m gdf\u001b[38;5;241m.\u001b[39miterrows():\n\u001b[0;32m      3\u001b[0m     feature \u001b[38;5;241m=\u001b[39m {\n\u001b[0;32m      4\u001b[0m         \u001b[38;5;124m\"\u001b[39m\u001b[38;5;124mtype\u001b[39m\u001b[38;5;124m\"\u001b[39m: \u001b[38;5;124m\"\u001b[39m\u001b[38;5;124mFeature\u001b[39m\u001b[38;5;124m\"\u001b[39m,\n\u001b[1;32m----> 5\u001b[0m         \u001b[38;5;124m\"\u001b[39m\u001b[38;5;124mgeometry\u001b[39m\u001b[38;5;124m\"\u001b[39m: json\u001b[38;5;241m.\u001b[39mloads(\u001b[43mrow\u001b[49m\u001b[43m[\u001b[49m\u001b[38;5;124;43m'\u001b[39;49m\u001b[38;5;124;43mgeometry\u001b[39;49m\u001b[38;5;124;43m'\u001b[39;49m\u001b[43m]\u001b[49m\u001b[38;5;241;43m.\u001b[39;49m\u001b[43mto_json\u001b[49m()),\n\u001b[0;32m      6\u001b[0m         \u001b[38;5;124m\"\u001b[39m\u001b[38;5;124mproperties\u001b[39m\u001b[38;5;124m\"\u001b[39m: {\n\u001b[0;32m      7\u001b[0m             \u001b[38;5;124m\"\u001b[39m\u001b[38;5;124mADDRESS\u001b[39m\u001b[38;5;124m\"\u001b[39m: row[\u001b[38;5;124m'\u001b[39m\u001b[38;5;124mADDRESS\u001b[39m\u001b[38;5;124m'\u001b[39m],\n\u001b[0;32m      8\u001b[0m             \u001b[38;5;124m\"\u001b[39m\u001b[38;5;124mOBJ_NAME\u001b[39m\u001b[38;5;124m\"\u001b[39m: row[\u001b[38;5;124m'\u001b[39m\u001b[38;5;124mOBJ_NAME\u001b[39m\u001b[38;5;124m'\u001b[39m]\n\u001b[0;32m      9\u001b[0m         }\n\u001b[0;32m     10\u001b[0m     }\n\u001b[0;32m     11\u001b[0m     features\u001b[38;5;241m.\u001b[39mappend(feature)\n\u001b[0;32m     13\u001b[0m geojson \u001b[38;5;241m=\u001b[39m {\n\u001b[0;32m     14\u001b[0m     \u001b[38;5;124m\"\u001b[39m\u001b[38;5;124mtype\u001b[39m\u001b[38;5;124m\"\u001b[39m: \u001b[38;5;124m\"\u001b[39m\u001b[38;5;124mFeatureCollection\u001b[39m\u001b[38;5;124m\"\u001b[39m,\n\u001b[0;32m     15\u001b[0m     \u001b[38;5;124m\"\u001b[39m\u001b[38;5;124mfeatures\u001b[39m\u001b[38;5;124m\"\u001b[39m: features\n\u001b[0;32m     16\u001b[0m }\n",
      "\u001b[1;31mAttributeError\u001b[0m: 'Polygon' object has no attribute 'to_json'"
     ]
    }
   ],
   "source": [
    "features = []\n",
    "for _, row in gdf.iterrows():\n",
    "    feature = {\n",
    "        \"type\": \"Feature\",\n",
    "        \"geometry\": json.loads(row['geometry'].to_json()),\n",
    "        \"properties\": {\n",
    "            \"ADDRESS\": row['ADDRESS'],\n",
    "            \"OBJ_NAME\": row['OBJ_NAME']\n",
    "        }\n",
    "    }\n",
    "    features.append(feature)\n",
    "\n",
    "geojson = {\n",
    "    \"type\": \"FeatureCollection\",\n",
    "    \"features\": features\n",
    "}\n",
    "\n",
    "with open('circles.geojson', 'w') as f:\n",
    "    json.dump(geojson, f)"
   ]
  },
  {
   "cell_type": "code",
   "execution_count": 134,
   "metadata": {},
   "outputs": [],
   "source": [
    "m = folium.Map(location = [55.750066, 37.614356], zoom_start=10)\n",
    "\n",
    "for _, r in gdf.iterrows():\n",
    "    sim_geo = gpd.GeoSeries(gdf['geometry'])\n",
    "    geo_j = sim_geo.to_json()\n",
    "    geo_j = folium.GeoJson(data = geo_j, style_function=lambda x: {'fillColor': 'orange'})\n",
    "\n",
    "    geo_j.add_to(m)\n",
    "\n",
    "    m.save('geo.html')"
   ]
  },
  {
   "cell_type": "code",
   "execution_count": 1,
   "metadata": {},
   "outputs": [],
   "source": [
    "import geojson\n",
    "import folium\n",
    "\n",
    "# Table with points lat/lon, radius and lables.\n",
    "data = [\n",
    "    {'label': 'poin1','lat': 55.806690, 'lon': 37.577019, 'radius': 2},\n",
    "    {'label': 'poin2','lat': 55.741420, 'lon': 37.693748, 'radius': 2}\n",
    "]\n",
    "\n",
    "\n",
    "\n",
    "# Create list from points\n",
    "points = []\n",
    "for item in data:\n",
    "    point = geojson.Point((item['lon'], item['lat']))\n",
    "    points.append(point)\n",
    "\n",
    "# Create list circles from points list.\n",
    "circles = []\n",
    "for item in data:\n",
    "    circle = geojson.Feature(\n",
    "        geometry=geojson.Point((item['lon'], item['lat'])),\n",
    "        properties={\n",
    "            'radius': item['radius'],\n",
    "            'color': 'red',\n",
    "            'fillOpacity': 0.1,\n",
    "            'stroke': 'red',\n",
    "            'strokeWidth': 0.3,\n",
    "            'label': item['label']\n",
    "        }\n",
    "    )\n",
    "    circles.append(circle)\n",
    "\n",
    "# Create GeoJSON\n",
    "geojson_data = geojson.FeatureCollection(circles)\n",
    "\n",
    "# Save GeoJSON to file\n",
    "with open('circles.geojson', 'w') as f:\n",
    "    geojson.dump(geojson_data, f)\n",
    "\n",
    "# Create folium map with circles\n",
    "m = folium.Map(location=[55.7558, 37.6173], zoom_start=12)\n",
    "for item in data:\n",
    "    folium.Circle(\n",
    "        location=[item['lat'], item['lon']],\n",
    "        radius=item['radius']*1000,  # радиус в метрах\n",
    "        color='red',\n",
    "        fill=True,\n",
    "        stroke=False,\n",
    "        popup=item['label']\n",
    "        # fillOpacity=0.1,\n",
    "        # stroke=True,\n",
    "        # strokeWeight=2,\n",
    "    ).add_to(m)\n",
    "\n",
    "# Save map to html file\n",
    "m.save('circles.html')"
   ]
  }
 ],
 "metadata": {
  "kernelspec": {
   "display_name": "Python 3",
   "language": "python",
   "name": "python3"
  },
  "language_info": {
   "codemirror_mode": {
    "name": "ipython",
    "version": 3
   },
   "file_extension": ".py",
   "mimetype": "text/x-python",
   "name": "python",
   "nbconvert_exporter": "python",
   "pygments_lexer": "ipython3",
   "version": "3.12.5"
  }
 },
 "nbformat": 4,
 "nbformat_minor": 2
}
