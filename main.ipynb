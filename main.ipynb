{
 "cells": [
  {
   "cell_type": "code",
   "execution_count": null,
   "metadata": {},
   "outputs": [],
   "source": [
    "import folium\n",
    "import pandas as pd\n",
    "import geopandas as gpd\n",
    "import json\n",
    "\n",
    "# Load the Excel file into a Pandas DataFrame\n",
    "df = pd.read_excel('data.xlsx')\n",
    "\n",
    "# Convert the DataFrame to a GeoDataFrame and set the CRS (Coordinate Reference System)\n",
    "gdf = gpd.GeoDataFrame(df, geometry=gpd.points_from_xy(df.LON, df.LAT), crs=\"EPSG:4326\")\n",
    "estimate_crs = gdf.estimate_utm_crs()\n",
    "gdf = gdf.to_crs(estimate_crs)\n",
    "\n",
    "# Add a buffer in meters to the geometries\n",
    "gdf['geometry'] = gdf['geometry'].buffer(2000, 16)\n",
    "gdf = gdf.to_crs({'init': 'epsg:4326'})\n",
    "\n",
    "# Save the GeoDataFrame to a GeoJSON file\n",
    "gdf.to_file(\"output.geojson\", driver=\"GeoJSON\")\n",
    "\n",
    "# Create a Folium map\n",
    "m = folium.Map(location = [55.750066, 37.614356], zoom_start=10)\n",
    "\n",
    "# Add the GeoJSON data to the map\n",
    "folium.GeoJson(\n",
    "    gdf,\n",
    "    style_function=lambda feature: {\n",
    "        \"fillColor\": \"#ff0000\",\n",
    "        \"fill-opacity\": 0.3,\n",
    "        \"stroke\": False\n",
    "}\n",
    "    ).add_to(m)\n",
    "\n",
    "# Save the map as an HTML file\n",
    "m.save('geo.html')"
   ]
  }
 ],
 "metadata": {
  "kernelspec": {
   "display_name": "Python 3",
   "language": "python",
   "name": "python3"
  },
  "language_info": {
   "codemirror_mode": {
    "name": "ipython",
    "version": 3
   },
   "file_extension": ".py",
   "mimetype": "text/x-python",
   "name": "python",
   "nbconvert_exporter": "python",
   "pygments_lexer": "ipython3",
   "version": "3.12.5"
  }
 },
 "nbformat": 4,
 "nbformat_minor": 2
}
